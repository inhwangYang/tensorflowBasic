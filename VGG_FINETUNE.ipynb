{
 "cells": [
  {
   "cell_type": "code",
   "execution_count": 1,
   "metadata": {
    "collapsed": false
   },
   "outputs": [
    {
     "name": "stdout",
     "output_type": "stream",
     "text": [
      "Package loaded.\n"
     ]
    }
   ],
   "source": [
    "import os\n",
    "import numpy as np\n",
    "import tensorflow as tf\n",
    "import matplotlib.pyplot as plt\n",
    "import scipy.misc\n",
    "import scipy.io\n",
    "from tensorflow.examples.tutorials.mnist import input_data\n",
    "\n",
    "%matplotlib inline\n",
    "print(\"Package loaded.\")"
   ]
  },
  {
   "cell_type": "markdown",
   "metadata": {},
   "source": [
    "<h1>LOAD DATA</h1>"
   ]
  },
  {
   "cell_type": "code",
   "execution_count": 2,
   "metadata": {
    "collapsed": false,
    "scrolled": true
   },
   "outputs": [
    {
     "name": "stdout",
     "output_type": "stream",
     "text": [
      "['trainlabel', 'trainimg', 'testimg', 'testlabel']\n"
     ]
    }
   ],
   "source": [
    "cwd = os.getcwd()\n",
    "loadpath = cwd+\"/data/data4vgg.npz\"\n",
    "l = np.load(loadpath)\n",
    "\n",
    "#show files\n",
    "print(l.files)"
   ]
  },
  {
   "cell_type": "markdown",
   "metadata": {},
   "source": [
    "<h1>Parse Data</h1>"
   ]
  },
  {
   "cell_type": "code",
   "execution_count": 3,
   "metadata": {
    "collapsed": false
   },
   "outputs": [
    {
     "name": "stdout",
     "output_type": "stream",
     "text": [
      "69 train images loaded\n",
      "18 test images loaded\n",
      "37632 dimensional input\n",
      "2 classes\n",
      "shape of 'trainimg' is (69, 37632)\n",
      "shape of 'testimg' is (18, 37632)\n"
     ]
    }
   ],
   "source": [
    "trainimg = l['trainimg']\n",
    "trainlabel = l['trainlabel']\n",
    "testimg = l['testimg']\n",
    "testlabel = l['testlabel']\n",
    "\n",
    "ntrain = trainimg.shape[0]\n",
    "nclass= trainlabel.shape[1]\n",
    "dim = trainimg.shape[1]\n",
    "\n",
    "ntest = testimg.shape[0]\n",
    "\n",
    "print(\"%d train images loaded\" %(ntrain))\n",
    "print(\"%d test images loaded\"%(ntest))\n",
    "print(\"%d dimensional input\" %(dim))\n",
    "print(\"%d classes\" %(nclass))\n",
    "print(\"shape of 'trainimg' is %s\" %(trainimg.shape,))\n",
    "print(\"shape of 'testimg' is %s\"%(testimg.shape,))"
   ]
  },
  {
   "cell_type": "markdown",
   "metadata": {},
   "source": [
    "<h1> GENERATE TENSORS FOR TRAINING AND TESTING </h1>"
   ]
  },
  {
   "cell_type": "code",
   "execution_count": 4,
   "metadata": {
    "collapsed": false
   },
   "outputs": [
    {
     "name": "stdout",
     "output_type": "stream",
     "text": [
      "shape of trainimg_tensor is (69, 112, 112, 3)\n",
      "shape of testimg_tensor is (18, 112, 112, 3)\n"
     ]
    }
   ],
   "source": [
    "trainimg_tensor = np.ndarray( (ntrain,112,112,3) )\n",
    "\n",
    "for i in range(ntrain):\n",
    "    currimg = trainimg[i,:]\n",
    "    currimg = np.reshape(currimg, [112,112,3] )\n",
    "    trainimg_tensor[i,:,:,:] = currimg\n",
    "print(\"shape of trainimg_tensor is %s\"%(trainimg_tensor.shape,))\n",
    "\n",
    "\n",
    "testimg_tensor = np.ndarray((ntest, 112,112,3))\n",
    "for i in range(ntest):\n",
    "    currimg = testimg[i,:]\n",
    "    currimg = np.reshape(currimg,[112,112,3]) \n",
    "    testimg_tensor[i,:,:,:] = currimg\n",
    "print(\"shape of testimg_tensor is %s\"%(testimg_tensor.shape,))"
   ]
  },
  {
   "cell_type": "markdown",
   "metadata": {},
   "source": [
    "<h1>DEFINE A FUNCTION FOR USING PRETRAINED VGG NETWORK</h1>"
   ]
  },
  {
   "cell_type": "code",
   "execution_count": 5,
   "metadata": {
    "collapsed": true
   },
   "outputs": [],
   "source": [
    "def net(data_path, input_image):\n",
    "    layers=(\n",
    "        'conv1_1','relu1_1','conv1_2','relu1_2','pool1',\n",
    "        'conv2_1','relu2_1','conv2_2','relu2_2','pool2',\n",
    "        'conv3_1','relu3_1','conv3_2','relu3_2','conv3_3',\n",
    "        'relu3_3','conv3_4','relu3_4','pool3',\n",
    "        'conv4_1','relu4_1','conv4_2','relu4_2','conv4_3',\n",
    "        'relu4_3','conv4_4','relu4_4','pool4',\n",
    "        'conv5_1','relu5_1','conv5_2','relu5_2','conv5_3',\n",
    "        'relu5_3','conv5_4','relu5_4'\n",
    "    \n",
    "    )\n",
    "    data = scipy.io.loadmat(data_path)\n",
    "    mean = data['normalization'][0][0][0]\n",
    "    mean_pixel = np.mean(mean,axis=(0,1))\n",
    "    weights = data['layers'][0]\n",
    "    net = {}\n",
    "    current = input_image\n",
    "    \n",
    "    for i, name in enumerate(layers):\n",
    "        kind = name[:4]\n",
    "        if kind == 'conv':\n",
    "            kernels, bias = weights[i][0][0][0][0]\n",
    "            \n",
    "            #matconvnet : weights are [width, height, in_channels, out_channels]\n",
    "            #tensorflow : weights are [height,width, in_channels, out_channels]\n",
    "            \n",
    "            kernels = np.transpose(kernels,(1,0,2,3))\n",
    "            bias = bias.reshape(-1)\n",
    "            current = _conv_layer(current,kernels, bias)\n",
    "        elif kind =='relu':\n",
    "            current = tf.nn.relu(current)\n",
    "        elif kind =='pool':\n",
    "            current = _pool_layer(current)\n",
    "        net[name] = current\n",
    "        \n",
    "    assert len(net) == len(layers)\n",
    "    return net, mean_pixel\n",
    "\n",
    "\n",
    "def _conv_layer(input,weights,bias):\n",
    "    conv = tf.nn.conv2d(input,tf.constant(weights), strides=(1,1,1,1), padding='SAME')\n",
    "    return tf.nn.bias_add(conv,bias)\n",
    "\n",
    "def _pool_layer(input):\n",
    "    return tf.nn.max_pool(input, ksize=(1,2,2,1), strides=(1,2,2,1), padding='SAME')\n",
    "\n",
    "def preprocess(image, mean_pixel):\n",
    "    return image-mean_pixel\n",
    "\n",
    "def unprocess(image,mean_pixel):\n",
    "    return image+mean_pixel\n",
    "\n"
   ]
  },
  {
   "cell_type": "markdown",
   "metadata": {},
   "source": [
    "<h1> EXTRACT FEATURES FROM THE VGG NETWORK </h1>"
   ]
  },
  {
   "cell_type": "code",
   "execution_count": 7,
   "metadata": {
    "collapsed": false
   },
   "outputs": [
    {
     "name": "stdout",
     "output_type": "stream",
     "text": [
      "TYPE OF 'train_features' IS <class 'numpy.ndarray'> \n",
      "SHAPE OF 'train_features' IS (69, 7, 7, 512)\n",
      "TYPE OF 'test_features' IS <class 'numpy.ndarray'> \n",
      "SHAPE OF 'test_features' IS (18, 7, 7, 512)\n",
      "PREPROCESSING DONE\n"
     ]
    }
   ],
   "source": [
    "VGG_PATH = cwd+'/data/imagenet-vgg-verydeep-19.mat'\n",
    "\n",
    "with tf.Graph().as_default(),  tf.Session() as sess:\n",
    "    with tf.device('/gpu:0'):\n",
    "        img_placeholder = tf.placeholder(tf.float32, shape=(None,112,112,3))\n",
    "        net_val, mean_pixel = net(VGG_PATH, img_placeholder)\n",
    "        \n",
    "        train_features = net_val['relu5_4'].eval(feed_dict={img_placeholder: trainimg_tensor})\n",
    "        test_features = net_val['relu5_4'].eval(feed_dict={img_placeholder: testimg_tensor})\n",
    "        \n",
    "print(\"TYPE OF 'train_features' IS %s \" %(type(train_features)))\n",
    "print(\"SHAPE OF 'train_features' IS %s\" % (train_features.shape,))\n",
    "print(\"TYPE OF 'test_features' IS %s \"%(type(test_features)))\n",
    "print(\"SHAPE OF 'test_features' IS %s\"%(test_features.shape,))\n",
    "print(\"PREPROCESSING DONE\")"
   ]
  },
  {
   "cell_type": "markdown",
   "metadata": {},
   "source": [
    "<h1>VECTORIZE CNN FEATURES</h1>"
   ]
  },
  {
   "cell_type": "code",
   "execution_count": 14,
   "metadata": {
    "collapsed": false,
    "scrolled": true
   },
   "outputs": [
    {
     "name": "stdout",
     "output_type": "stream",
     "text": [
      "SHAPE OF 'train_vectorized' IS (69, 25088)\n",
      "SHAPE OF 'test_vectorized' IS (18, 25088)\n"
     ]
    },
    {
     "data": {
      "image/png": "[encoded data removed]",
      "text/plain": [
       "<matplotlib.figure.Figure at 0x7f83181ef320>"
      ]
     },
     "metadata": {},
     "output_type": "display_data"
    }
   ],
   "source": [
    "#VGG 끝 레이어를 통과한것\n",
    "train_vectorized = np.ndarray((ntrain, 7*7*512))\n",
    "test_vectorized = np.ndarray((ntest, 7*7*512))\n",
    "\n",
    "for i in range(ntrain):\n",
    "    curr_feat = train_features[i,:,:,:]\n",
    "    curr_feat_vec = np.reshape(curr_feat,(1,-1))\n",
    "    train_vectorized[i,:] = curr_feat_vec\n",
    "    \n",
    "for i in range(ntest):\n",
    "    curr_feat = test_features[i,:,:,:]\n",
    "    curr_feat_vec = np.reshape(curr_feat,(1,-1))\n",
    "    test_vectorized[i, :] = curr_feat_vec\n",
    "    \n",
    "print(\"SHAPE OF 'train_vectorized' IS %s\" %(train_vectorized.shape,))\n",
    "print(\"SHAPE OF 'test_vectorized' IS %s\" %(test_vectorized.shape,))\n",
    "\n",
    "\n",
    "#TrainingImage가 relu5_3까지 전부 통과했을때의 모습\n",
    "\n",
    "currimg = np.reshape(train_vectorized[0], [7,7,512] )\n",
    "\n",
    "plt.matshow(currimg[:,:,0])\n",
    "plt.show()"
   ]
  },
  {
   "cell_type": "markdown",
   "metadata": {},
   "source": [
    "<h1> DEFINE NETWORKS AND FUNCTIONS(ADD 2LAYER MLP)</h1>"
   ]
  },
  {
   "cell_type": "code",
   "execution_count": 17,
   "metadata": {
    "collapsed": false
   },
   "outputs": [
    {
     "name": "stdout",
     "output_type": "stream",
     "text": [
      "Network Ready to go!!\n"
     ]
    }
   ],
   "source": [
    "#Parameters\n",
    "learning_rate = 0.0001\n",
    "training_epochs = 100\n",
    "batch_size = 100\n",
    "display_step = 10\n",
    "\n",
    "#Network\n",
    "with tf.device(\"/gpu:0\"):\n",
    "    n_input = dim\n",
    "    n_output = nclass\n",
    "    \n",
    "    weights ={\n",
    "        'wd1': tf.Variable(tf.random_normal([7*7*512,1024], stddev=0.1)),\n",
    "        'wd2': tf.Variable(tf.random_normal([1024, n_output], stddev=0.1))\n",
    "    }\n",
    "    \n",
    "    biases = {\n",
    "        'bd1': tf.Variable(tf.random_normal([1024], stddev=0.1)),\n",
    "        'bd2': tf.Variable(tf.random_normal([n_output], stddev=0.1))\n",
    "    }\n",
    "    \n",
    "    def conv_basic(_input, _w, _b, _keepratio):\n",
    "        #input\n",
    "        _input_r = _input\n",
    "        \n",
    "        #vectorize\n",
    "        _dense1 = tf.reshape(_input_r, [-1,_w['wd1'].get_shape().as_list()[0]])\n",
    "        \n",
    "        #Fc1\n",
    "        _fc1 = tf.nn.relu(tf.add(tf.matmul(_dense1, _w['wd1']), _b['bd1']))\n",
    "        _fc_dr1 = tf.nn.dropout(_fc1,_keepratio)\n",
    "        #Fc2\n",
    "        _out = tf.add(tf.matmul(_fc_dr1, _w['wd2']), _b['bd2'])\n",
    "        \n",
    "        #Return everything\n",
    "        out = {'input_r': _input_r, 'dense1':_dense1, 'fc1':_fc1, 'fc_dr1': _fc_dr1, 'out':_out}\n",
    "        \n",
    "        return out\n",
    "    \n",
    "#tf graph input\n",
    "x = tf.placeholder(tf.float32, [None, 7*7*512])\n",
    "y = tf.placeholder(tf.float32, [None, n_output])\n",
    "keepratio = tf.placeholder(tf.float32)\n",
    "\n",
    "\n",
    "#Functions!!\n",
    "with tf.device(\"/gpu:0\"):\n",
    "    _pred = conv_basic(x, weights, biases, keepratio)['out']\n",
    "    cost = tf.reduce_mean(tf.nn.softmax_cross_entropy_with_logits(logits=_pred,labels=y))\n",
    "    optm = tf.train.AdamOptimizer(learning_rate = learning_rate).minimize(cost)\n",
    "    _corr = tf.equal(tf.argmax(_pred,1), tf.argmax(y,1))\n",
    "    accr = tf.reduce_mean(tf.cast(_corr, tf.float32))\n",
    "    init = tf.global_variables_initializer()\n",
    "    \n",
    "print(\"Network Ready to go!!\")\n",
    "\n",
    "        "
   ]
  },
  {
   "cell_type": "markdown",
   "metadata": {},
   "source": [
    "<h1> CNN Finetuning</h1>\n"
   ]
  },
  {
   "cell_type": "code",
   "execution_count": 19,
   "metadata": {
    "collapsed": false
   },
   "outputs": [
    {
     "name": "stdout",
     "output_type": "stream",
     "text": [
      "Epoch: 000/100 cost: 5.969704628\n",
      "Training accuracy: 0.760\n",
      "Test accuracy: 0.444\n",
      "Epoch: 010/100 cost: 0.134050012\n",
      "Training accuracy: 0.960\n",
      "Test accuracy: 0.889\n",
      "Epoch: 020/100 cost: 0.000003248\n",
      "Training accuracy: 1.000\n",
      "Test accuracy: 0.944\n",
      "Epoch: 030/100 cost: 0.000000000\n",
      "Training accuracy: 1.000\n",
      "Test accuracy: 0.944\n",
      "Epoch: 040/100 cost: 0.000000000\n",
      "Training accuracy: 1.000\n",
      "Test accuracy: 0.944\n",
      "Epoch: 050/100 cost: 0.000000000\n",
      "Training accuracy: 1.000\n",
      "Test accuracy: 0.944\n",
      "Epoch: 060/100 cost: 0.000000000\n",
      "Training accuracy: 1.000\n",
      "Test accuracy: 0.833\n",
      "Epoch: 070/100 cost: 0.000000000\n",
      "Training accuracy: 1.000\n",
      "Test accuracy: 0.944\n",
      "Epoch: 080/100 cost: 0.000000000\n",
      "Training accuracy: 1.000\n",
      "Test accuracy: 0.944\n",
      "Epoch: 090/100 cost: 0.000000000\n",
      "Training accuracy: 1.000\n",
      "Test accuracy: 0.944\n",
      "Optimization Finished!\n"
     ]
    }
   ],
   "source": [
    "sess = tf.Session()\n",
    "sess.run(init)\n",
    "\n",
    "#Training cycle\n",
    "for epoch in range(training_epochs):\n",
    "    avg_cost = 0.\n",
    "    num_batch = int(ntrain/batch_size)+1\n",
    "    \n",
    "    #Loop over all batches\n",
    "    for i in range(num_batch):\n",
    "        randidx = np.random.randint(ntrain,size=batch_size)\n",
    "        batch_xs = train_vectorized[randidx, :]\n",
    "        batch_ys = trainlabel[randidx, :]\n",
    "        \n",
    "        #Fit training using batch data\n",
    "        sess.run(optm, feed_dict={x:batch_xs, y:batch_ys,keepratio:0.7})\n",
    "        \n",
    "        #Compute average loss\n",
    "        avg_cost += sess.run(cost, feed_dict={x:batch_xs, y:batch_ys, keepratio:1.})/num_batch\n",
    "        \n",
    "    #Display logs per epoch step\n",
    "    if epoch % display_step == 0:\n",
    "        print(\"Epoch: %03d/%03d cost: %.9f\" %(epoch, training_epochs, avg_cost))\n",
    "        train_acc= sess.run(accr, feed_dict={x:batch_xs, y:batch_ys, keepratio:1.})\n",
    "        print(\"Training accuracy: %.3f\" %(train_acc))\n",
    "        \n",
    "        test_acc = sess.run(accr, feed_dict={x:test_vectorized, y:testlabel, keepratio:1.})\n",
    "        print(\"Test accuracy: %.3f\" %(test_acc))\n",
    "        \n",
    "print(\"Optimization Finished!\")"
   ]
  }
 ],
 "metadata": {
  "kernelspec": {
   "display_name": "Python 3",
   "language": "python",
   "name": "python3"
  },
  "language_info": {
   "codemirror_mode": {
    "name": "ipython",
    "version": 3
   },
   "file_extension": ".py",
   "mimetype": "text/x-python",
   "name": "python",
   "nbconvert_exporter": "python",
   "pygments_lexer": "ipython3",
   "version": "3.6.0"
  }
 },
 "nbformat": 4,
 "nbformat_minor": 2
}
